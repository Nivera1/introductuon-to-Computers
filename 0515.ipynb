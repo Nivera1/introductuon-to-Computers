{
  "nbformat": 4,
  "nbformat_minor": 0,
  "metadata": {
    "colab": {
      "provenance": [],
      "authorship_tag": "ABX9TyNvpKs0cjUj5+PVsc5IaREL",
      "include_colab_link": true
    },
    "kernelspec": {
      "name": "python3",
      "display_name": "Python 3"
    },
    "language_info": {
      "name": "python"
    }
  },
  "cells": [
    {
      "cell_type": "markdown",
      "metadata": {
        "id": "view-in-github",
        "colab_type": "text"
      },
      "source": [
        "<a href=\"https://colab.research.google.com/github/Nivera1/introductuon-to-Computers/blob/main/0515.ipynb\" target=\"_parent\"><img src=\"https://colab.research.google.com/assets/colab-badge.svg\" alt=\"Open In Colab\"/></a>"
      ]
    },
    {
      "cell_type": "code",
      "execution_count": 2,
      "metadata": {
        "colab": {
          "base_uri": "https://localhost:8080/"
        },
        "id": "ZgcdqHW7RbjD",
        "outputId": "d2ef1433-6554-4b88-f2c7-8bc9a19ffa8d"
      },
      "outputs": [
        {
          "output_type": "stream",
          "name": "stdout",
          "text": [
            "今天會下雨嗎?f\n",
            "請重新輸入\n"
          ]
        }
      ],
      "source": [
        "rain = str(input(\"今天會下雨嗎?\"))\n",
        "if(rain ==\"Y\"or rain ==\"y\"):\n",
        "  print(\"出門要帶傘喔\")\n",
        "elif(rain ==\"N\"or rain ==\"n\"):\n",
        "  print(\"不用帶傘\")\n",
        "else:\n",
        "  print(\"請重新輸入\")"
      ]
    },
    {
      "cell_type": "code",
      "source": [
        "temperature = float(input(\"temperature: \"))\n",
        "if temperature >= 37.5:\n",
        "  print('體溫過高!')\n",
        "elif temperature >= 37:\n",
        "  print('體溫略高!')\n",
        "elif temperature >= 34:\n",
        "  print('體溫正常!')\n",
        "else: \n",
        "  print('體溫異常，︀請重新測量!')"
      ],
      "metadata": {
        "colab": {
          "base_uri": "https://localhost:8080/"
        },
        "id": "SMltXn1XTd-y",
        "outputId": "900014ae-21cd-4efe-e436-9a99e906a637"
      },
      "execution_count": 33,
      "outputs": [
        {
          "output_type": "stream",
          "name": "stdout",
          "text": [
            "temperature: 35\n",
            "體溫正常!\n"
          ]
        }
      ]
    },
    {
      "cell_type": "code",
      "source": [
        "score = int(input(\"請輸入成績: \"))\n",
        "if score >= 90:\n",
        "  print('A')\n",
        "elif score >= 80:\n",
        "  print('B')\n",
        "elif score >= 70:\n",
        "  print('C')\n",
        "elif score >= 60:\n",
        "  print('D')\n",
        "else:\n",
        "  print('E')"
      ],
      "metadata": {
        "colab": {
          "base_uri": "https://localhost:8080/"
        },
        "id": "vvJ0Kc69XLak",
        "outputId": "48faac65-36d1-4596-f4a3-0b6a92479303"
      },
      "execution_count": 17,
      "outputs": [
        {
          "output_type": "stream",
          "name": "stdout",
          "text": [
            "請輸入成績: 50\n",
            "E\n"
          ]
        }
      ]
    },
    {
      "cell_type": "code",
      "source": [
        "season = int(input(\"請輸入⽉份: \"))\n",
        "if(3 <= season <=5):\n",
        "  print(str(season)+(\"月是春天\"))\n",
        "elif(6 <= season <=8):\n",
        "  print(str(season)+(\"月是夏天\"))\n",
        "elif(9 <= season <=11):\n",
        "  print(str(season)+(\"月是秋天\"))\n",
        "elif season in [12,1,2]:\n",
        "  print(str(season)+(\"月是冬天\"))\n",
        "else:\n",
        "  print('月份不在此範圍')"
      ],
      "metadata": {
        "colab": {
          "base_uri": "https://localhost:8080/"
        },
        "id": "sJUGxnzLZs0j",
        "outputId": "dd772b5c-a632-4e42-df7d-6c584fcd2ba7"
      },
      "execution_count": 37,
      "outputs": [
        {
          "output_type": "stream",
          "name": "stdout",
          "text": [
            "請輸入⽉份: 1\n",
            "1月是冬天\n"
          ]
        }
      ]
    },
    {
      "cell_type": "code",
      "source": [
        "收入 = int(input(\"請輸入今年收入淨額: \"))\n",
        "if 收入 >= 2000000:\n",
        "  print(\"付稅金額\"+str((收入)*0.3)+\"元\")\n",
        "elif 收入 >= 1000000:\n",
        "  print(\"付稅金額\"+str((收入)*0.21)+\"元\")\n",
        "elif 收入 >= 600000:\n",
        "  print(\"付稅金額\"+str((收入)*0.13)+\"元\")\n",
        "elif 收入 >= 300000:\n",
        "  print(\"付稅金額\"+str((收入)*0.06)+\"元\")  \n",
        "else: \n",
        "  print('免稅')"
      ],
      "metadata": {
        "colab": {
          "base_uri": "https://localhost:8080/"
        },
        "id": "iqsePpkHbXCr",
        "outputId": "01804501-1eaa-40bd-c222-498bc9cc1787"
      },
      "execution_count": 47,
      "outputs": [
        {
          "output_type": "stream",
          "name": "stdout",
          "text": [
            "請輸入今年收入淨額: 150000\n",
            "免稅\n"
          ]
        }
      ]
    }
  ]
}