{
  "nbformat": 4,
  "nbformat_minor": 0,
  "metadata": {
    "colab": {
      "provenance": [],
      "authorship_tag": "ABX9TyP0lbLwRS6oB7+qpStEKzvU",
      "include_colab_link": true
    },
    "kernelspec": {
      "name": "python3",
      "display_name": "Python 3"
    },
    "language_info": {
      "name": "python"
    }
  },
  "cells": [
    {
      "cell_type": "markdown",
      "metadata": {
        "id": "view-in-github",
        "colab_type": "text"
      },
      "source": [
        "<a href=\"https://colab.research.google.com/github/Nivera1/introductuon-to-Computers/blob/main/5_01(%E5%AD%98%E6%AC%BE%E8%A8%88%E7%AE%97).ipynb\" target=\"_parent\"><img src=\"https://colab.research.google.com/assets/colab-badge.svg\" alt=\"Open In Colab\"/></a>"
      ]
    },
    {
      "cell_type": "code",
      "source": [
        "本金 = int(input(\"請輸入本金存款金額:\"))"
      ],
      "metadata": {
        "colab": {
          "base_uri": "https://localhost:8080/"
        },
        "id": "Yg5yFlU9P3UX",
        "outputId": "624aff11-e55d-47cf-8270-513c3c2e9bae"
      },
      "execution_count": null,
      "outputs": [
        {
          "name": "stdout",
          "output_type": "stream",
          "text": [
            "請輸入本金存款金額:10000\n"
          ]
        }
      ]
    },
    {
      "cell_type": "code",
      "source": [
        "利率=int(input('請輸入利率(%):'))"
      ],
      "metadata": {
        "colab": {
          "base_uri": "https://localhost:8080/"
        },
        "id": "i_Ur2x-_SlVQ",
        "outputId": "1a4a5b07-e785-46e5-c7a7-826b278393bf"
      },
      "execution_count": null,
      "outputs": [
        {
          "name": "stdout",
          "output_type": "stream",
          "text": [
            "請輸入利率(%):2\n"
          ]
        }
      ]
    },
    {
      "cell_type": "code",
      "source": [
        "years=int(input('請輸入經過幾年:'))"
      ],
      "metadata": {
        "colab": {
          "base_uri": "https://localhost:8080/"
        },
        "id": "Q1DmJ_ulSlXv",
        "outputId": "bf264f3e-e3f8-48b5-9b2c-672947067bbf"
      },
      "execution_count": null,
      "outputs": [
        {
          "name": "stdout",
          "output_type": "stream",
          "text": [
            "請輸入經過幾年:6\n"
          ]
        }
      ]
    },
    {
      "cell_type": "code",
      "source": [
        "存款=本金*(1+利率/100)**years"
      ],
      "metadata": {
        "id": "Ri0Z4Yg9Sd7W"
      },
      "execution_count": null,
      "outputs": []
    },
    {
      "cell_type": "code",
      "source": [
        "存款"
      ],
      "metadata": {
        "colab": {
          "base_uri": "https://localhost:8080/"
        },
        "id": "gpGT70MrSd96",
        "outputId": "d5fc301a-ab19-4bc5-8cb6-a3c33256255f"
      },
      "execution_count": null,
      "outputs": [
        {
          "output_type": "execute_result",
          "data": {
            "text/plain": [
              "11261.62419264"
            ]
          },
          "metadata": {},
          "execution_count": 8
        }
      ]
    }
  ]
}